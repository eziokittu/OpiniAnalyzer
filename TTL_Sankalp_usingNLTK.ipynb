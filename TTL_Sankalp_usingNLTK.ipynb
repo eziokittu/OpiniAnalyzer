{
  "nbformat": 4,
  "nbformat_minor": 0,
  "metadata": {
    "colab": {
      "provenance": [],
      "authorship_tag": "ABX9TyP6y8kyhAeZqc5WnNqi1M/n",
      "include_colab_link": true
    },
    "kernelspec": {
      "name": "python3",
      "display_name": "Python 3"
    },
    "language_info": {
      "name": "python"
    }
  },
  "cells": [
    {
      "cell_type": "markdown",
      "metadata": {
        "id": "view-in-github",
        "colab_type": "text"
      },
      "source": [
        "<a href=\"https://colab.research.google.com/github/eziokittu/OpiniAnalyzer/blob/main/TTL_Sankalp_usingNLTK.ipynb\" target=\"_parent\"><img src=\"https://colab.research.google.com/assets/colab-badge.svg\" alt=\"Open In Colab\"/></a>"
      ]
    },
    {
      "cell_type": "code",
      "execution_count": 1,
      "metadata": {
        "id": "AQugXLfJNqkP",
        "colab": {
          "base_uri": "https://localhost:8080/"
        },
        "outputId": "7af4b478-178e-42f3-f12f-95f50217d54e"
      },
      "outputs": [
        {
          "output_type": "stream",
          "name": "stderr",
          "text": [
            "[nltk_data] Downloading package punkt to /root/nltk_data...\n",
            "[nltk_data]   Unzipping tokenizers/punkt.zip.\n",
            "[nltk_data] Downloading package stopwords to /root/nltk_data...\n",
            "[nltk_data]   Unzipping corpora/stopwords.zip.\n",
            "[nltk_data] Downloading package wordnet to /root/nltk_data...\n",
            "[nltk_data] Downloading package vader_lexicon to /root/nltk_data...\n"
          ]
        },
        {
          "output_type": "stream",
          "name": "stdout",
          "text": [
            "Enter a sentence to analyze sentiment: This is a small project to be done for our TTL lab in 3rd year. I tried to implement my model... But it felt boring. So I though to make a website instead and use small python codes\n",
            "\n",
            "Step 2: Tokenization - Tokens: ['This', 'is', 'a', 'small', 'project', 'to', 'be', 'done', 'for', 'our', 'TTL', 'lab', 'in', '3rd', 'year', '.', 'I', 'tried', 'to', 'implement', 'my', 'model', '...', 'But', 'it', 'felt', 'boring', '.', 'So', 'I', 'though', 'to', 'make', 'a', 'website', 'instead', 'and', 'use', 'small', 'python', 'codes']\n",
            "\n",
            "Step 3: Stopwords removal - Filtered Tokens: ['small', 'project', 'done', 'TTL', 'lab', '3rd', 'year', '.', 'tried', 'implement', 'model', '...', 'felt', 'boring', '.', 'though', 'make', 'website', 'instead', 'use', 'small', 'python', 'codes']\n",
            "\n",
            "Step 4: Lemmatization - Lemmatized Tokens: ['small', 'project', 'done', 'TTL', 'lab', '3rd', 'year', '.', 'tried', 'implement', 'model', '...', 'felt', 'boring', '.', 'though', 'make', 'website', 'instead', 'use', 'small', 'python', 'code']\n",
            "\n",
            "Step 5: Sentiment Analysis - Sentiment Score: {'neg': 0.082, 'neu': 0.918, 'pos': 0.0, 'compound': -0.4497}\n",
            "\n",
            "Overall sentiment: Negative\n"
          ]
        }
      ],
      "source": [
        "import nltk\n",
        "from nltk.tokenize import word_tokenize\n",
        "from nltk.corpus import stopwords\n",
        "from nltk.stem import WordNetLemmatizer\n",
        "from nltk.sentiment.vader import SentimentIntensityAnalyzer\n",
        "\n",
        "# Download necessary NLTK resources (run once)\n",
        "nltk.download('punkt')\n",
        "nltk.download('stopwords')\n",
        "nltk.download('wordnet')\n",
        "nltk.download('vader_lexicon')\n",
        "\n",
        "# Step 1: User input\n",
        "user_input = input(\"Enter a sentence to analyze sentiment: \")\n",
        "\n",
        "# Step 2: Tokenization\n",
        "tokens = word_tokenize(user_input)\n",
        "print(\"\\nStep 2: Tokenization - Tokens:\", tokens)\n",
        "\n",
        "# Step 3: Remove stopwords\n",
        "stop_words = set(stopwords.words('english'))\n",
        "filtered_tokens = [word for word in tokens if word.lower() not in stop_words]\n",
        "print(\"\\nStep 3: Stopwords removal - Filtered Tokens:\", filtered_tokens)\n",
        "\n",
        "# Step 4: Lemmatization\n",
        "lemmatizer = WordNetLemmatizer()\n",
        "lemmatized_tokens = [lemmatizer.lemmatize(word) for word in filtered_tokens]\n",
        "print(\"\\nStep 4: Lemmatization - Lemmatized Tokens:\", lemmatized_tokens)\n",
        "\n",
        "# Step 5: Sentiment Analysis\n",
        "analyzer = SentimentIntensityAnalyzer()\n",
        "sentiment_score = analyzer.polarity_scores(user_input)\n",
        "\n",
        "# Step 6: Output\n",
        "print(\"\\nStep 5: Sentiment Analysis - Sentiment Score:\", sentiment_score)\n",
        "\n",
        "# Step 7: Interpretation\n",
        "if sentiment_score['compound'] >= 0.05:\n",
        "    print(\"\\nOverall sentiment: Positive\")\n",
        "elif sentiment_score['compound'] <= -0.05:\n",
        "    print(\"\\nOverall sentiment: Negative\")\n",
        "else:\n",
        "    print(\"\\nOverall sentiment: Neutral\")\n"
      ]
    }
  ]
}