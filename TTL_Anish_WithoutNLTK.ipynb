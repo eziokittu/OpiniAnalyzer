{
  "nbformat": 4,
  "nbformat_minor": 0,
  "metadata": {
    "colab": {
      "provenance": [],
      "authorship_tag": "ABX9TyM5YKTNUPAzqfoiGaEmzDUj",
      "include_colab_link": true
    },
    "kernelspec": {
      "name": "python3",
      "display_name": "Python 3"
    },
    "language_info": {
      "name": "python"
    }
  },
  "cells": [
    {
      "cell_type": "markdown",
      "metadata": {
        "id": "view-in-github",
        "colab_type": "text"
      },
      "source": [
        "<a href=\"https://colab.research.google.com/github/eziokittu/OpiniAnalyzer/blob/main/TTL_Anish_WithoutNLTK.ipynb\" target=\"_parent\"><img src=\"https://colab.research.google.com/assets/colab-badge.svg\" alt=\"Open In Colab\"/></a>"
      ]
    },
    {
      "cell_type": "code",
      "execution_count": null,
      "metadata": {
        "id": "Yh6hdai8B8Mz"
      },
      "outputs": [],
      "source": []
    },
    {
      "cell_type": "code",
      "source": [
        "import string\n",
        "\n",
        "# Remove punctuation from the text\n",
        "def remove_punctuation(text):\n",
        "    return text.translate(str.maketrans('', '', string.punctuation))\n",
        "\n",
        "# Tokenize the text by splitting on whitespace\n",
        "def tokenize(text):\n",
        "    return text.split()\n",
        "\n",
        "# Simple stemming by removing common suffixes\n",
        "def stem(word):\n",
        "    if word.endswith('s'):\n",
        "        return word[:-1]\n",
        "    return word\n",
        "\n",
        "# Preprocess the text by removing punctuation and tokenizing\n",
        "def preprocess_text(text):\n",
        "    text = remove_punctuation(text.lower())\n",
        "    tokens = tokenize(text)\n",
        "    # Stem each token\n",
        "    stemmed_tokens = [stem(token) for token in tokens]\n",
        "    return stemmed_tokens\n",
        "\n",
        "# Analyze sentiment based on token list\n",
        "def analyze_sentiment(tokens):\n",
        "    positive_words = [\"good\", \"happy\", \"joyful\", \"great\"]\n",
        "    negative_words = [\"bad\", \"sad\", \"unhappy\", \"terrible\"]\n",
        "    sentiment_score = 0\n",
        "\n",
        "    for token in tokens:\n",
        "        if token in positive_words:\n",
        "            sentiment_score += 1\n",
        "        elif token in negative_words:\n",
        "            sentiment_score -= 1\n",
        "\n",
        "    if sentiment_score > 0:\n",
        "        return \"Positive\"\n",
        "    elif sentiment_score < 0:\n",
        "        return \"Negative\"\n",
        "    else:\n",
        "        return \"Neutral\"\n",
        "\n",
        "# Main function\n",
        "if __name__ == \"__main__\":\n",
        "    # Input text\n",
        "    input_text = input(\"Enter a sentence: \")\n",
        "    print(\"Input Text:\", input_text)\n",
        "\n",
        "    # Preprocess text\n",
        "    preprocessed_text = preprocess_text(input_text)\n",
        "    print(\"Preprocessed Text:\", preprocessed_text)\n",
        "\n",
        "    # Analyze sentiment\n",
        "    sentiment = analyze_sentiment(preprocessed_text)\n",
        "    print(\"Sentiment:\", sentiment)\n",
        "\n",
        "\n"
      ],
      "metadata": {
        "colab": {
          "base_uri": "https://localhost:8080/"
        },
        "id": "ooqo2FKAnisn",
        "outputId": "5fbc3e4e-7197-44c7-dc45-3302ce8d49cb"
      },
      "execution_count": null,
      "outputs": [
        {
          "output_type": "stream",
          "name": "stdout",
          "text": [
            "Enter a sentence: Such an awesome place to visit! Isn't it?\n",
            "Input Text: Such an awesome place to visit! Isn't it?\n",
            "Preprocessed Text: ['such', 'an', 'awesome', 'place', 'to', 'visit', 'isnt', 'it']\n",
            "Sentiment: Neutral\n"
          ]
        }
      ]
    }
  ]
}